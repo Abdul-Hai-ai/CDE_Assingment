{
 "cells": [
  {
   "cell_type": "markdown",
   "metadata": {},
   "source": [
    "# Part -1 Python Basics (Variables)"
   ]
  },
  {
   "cell_type": "markdown",
   "metadata": {},
   "source": [
    "1. Print Your Name with your Father name and Date of birth using suitable escape sequence charactor"
   ]
  },
  {
   "cell_type": "code",
   "execution_count": 17,
   "metadata": {},
   "outputs": [
    {
     "name": "stdout",
     "output_type": "stream",
     "text": [
      "Name:\tAbdul Hai\n",
      "Father's Name:\tHabibullah\n",
      "Date Of Birth:\t26\\08\\1993\n"
     ]
    }
   ],
   "source": [
    "print(\"Name:\\tAbdul Hai\")\n",
    "print(\"Father's Name:\\tHabibullah\")\n",
    "print(\"Date Of Birth:\\t26\\\\08\\\\1993\")"
   ]
  },
  {
   "cell_type": "markdown",
   "metadata": {},
   "source": [
    "\n",
    "2. Write your small bio using variables and print it using print function"
   ]
  },
  {
   "cell_type": "code",
   "execution_count": 23,
   "metadata": {},
   "outputs": [
    {
     "name": "stdout",
     "output_type": "stream",
     "text": [
      "My name is Abdul Hai\n",
      "My father's name is Habibullah\n",
      "My date of birth is 26-08-1993\n"
     ]
    }
   ],
   "source": [
    "name = \"Abdul Hai\"\n",
    "fName = \"Habibullah\"\n",
    "dob = \"26-08-1993\"\n",
    "\n",
    "print(f\"My name is {name}\\nMy father's name is {fName}\\nMy date of birth is {dob}\")"
   ]
  },
  {
   "cell_type": "markdown",
   "metadata": {},
   "source": [
    "3. Write a program in which use all the operators we can use in Python"
   ]
  },
  {
   "cell_type": "code",
   "execution_count": 36,
   "metadata": {},
   "outputs": [
    {
     "name": "stdout",
     "output_type": "stream",
     "text": [
      "Arithmetic Operators:\n",
      "Addition: 13\n",
      "Subtraction: 7\n",
      "Multiplication: 30\n",
      "Division: 3.3333333333333335\n",
      "Floor Division: 3\n",
      "Modulus: 1\n",
      "Exponentiation: 1000\n",
      "\n",
      "Comparison Operators:\n",
      "Equal: False\n",
      "Not Equal: True\n",
      "Greater Than: True\n",
      "Less Than: False\n",
      "Greater Than or Equal To: True\n",
      "Less Than or Equal To: False\n",
      "\n",
      "Logical Operators:\n",
      "AND: False\n",
      "OR: True\n",
      "NOT: False\n",
      "\n",
      "Assignment Operators:\n",
      "Initial Value: 5\n",
      "Add and Assign: 7\n",
      "Subtract and Assign: 6\n",
      "Multiply and Assign: 18\n",
      "Divide and Assign: 9.0\n",
      "Modulus and Assign: 0.0\n",
      "Exponent and Assign: 0.0\n",
      "Floor Divide and Assign: 0.0\n",
      "\n",
      "Identity Operators:\n",
      "Is: False\n",
      "Is Not: True\n",
      "\n",
      "Membership Operators:\n",
      "In: True\n",
      "Not In: True\n"
     ]
    }
   ],
   "source": [
    "# **Arithmetic Operators**\n",
    "a = 10\n",
    "b = 3\n",
    "print(\"Arithmetic Operators:\")\n",
    "print(\"Addition:\", a + b)\n",
    "print(\"Subtraction:\", a - b)\n",
    "print(\"Multiplication:\", a * b)\n",
    "print(\"Division:\", a / b)\n",
    "print(\"Floor Division:\", a // b)\n",
    "print(\"Modulus:\", a % b)\n",
    "print(\"Exponentiation:\", a ** b)\n",
    "\n",
    "# **Comparison Operators**\n",
    "print(\"\\nComparison Operators:\")\n",
    "print(\"Equal:\", a == b)\n",
    "print(\"Not Equal:\", a != b)\n",
    "print(\"Greater Than:\", a > b)\n",
    "print(\"Less Than:\", a < b)\n",
    "print(\"Greater Than or Equal To:\", a >= b)\n",
    "print(\"Less Than or Equal To:\", a <= b)\n",
    "\n",
    "# **Logical Operators**\n",
    "x = True\n",
    "y = False\n",
    "print(\"\\nLogical Operators:\")\n",
    "print(\"AND:\", x and y)\n",
    "print(\"OR:\", x or y)\n",
    "print(\"NOT:\", not x)\n",
    "\n",
    "# **Assignment Operators**\n",
    "print(\"\\nAssignment Operators:\")\n",
    "c = 5\n",
    "print(\"Initial Value:\", c)\n",
    "c += 2\n",
    "print(\"Add and Assign:\", c)\n",
    "c -= 1\n",
    "print(\"Subtract and Assign:\", c)\n",
    "c *= 3\n",
    "print(\"Multiply and Assign:\", c)\n",
    "c /= 2\n",
    "print(\"Divide and Assign:\", c)\n",
    "c %= 3\n",
    "print(\"Modulus and Assign:\", c)\n",
    "c **= 2\n",
    "print(\"Exponent and Assign:\", c)\n",
    "c //= 2\n",
    "print(\"Floor Divide and Assign:\", c)\n",
    "\n",
    "# **Identity Operators**\n",
    "print(\"\\nIdentity Operators:\")\n",
    "print(\"Is:\", a is b)\n",
    "print(\"Is Not:\", a is not b)\n",
    "\n",
    "# **Membership Operators**\n",
    "my_list = [1, 2, 3, 4, 5]\n",
    "print(\"\\nMembership Operators:\")\n",
    "print(\"In:\", 3 in my_list)\n",
    "print(\"Not In:\", 6 not in my_list)"
   ]
  },
  {
   "cell_type": "markdown",
   "metadata": {},
   "source": [
    "4. Completes the following steps of small task:\n",
    "    - Mention Marks of English , Islamiat and Maths out of 100 in 3 different variables\n",
    "    - Mention Variable of Total Marks and assign 300 to it\n",
    "    - Calculate Percentage"
   ]
  },
  {
   "cell_type": "code",
   "execution_count": 34,
   "metadata": {},
   "outputs": [
    {
     "name": "stdout",
     "output_type": "stream",
     "text": [
      "The Percentage is:82.66666666666667%\n"
     ]
    }
   ],
   "source": [
    "islamiat_marks = 88\n",
    "english_marks = 75\n",
    "math_marks = 85\n",
    "t_marks = 300\n",
    "\n",
    "print(f\"The Percentage is:{((islamiat_marks+english_marks+math_marks)/300)*100}%\" )\n",
    "\n"
   ]
  },
  {
   "cell_type": "markdown",
   "metadata": {},
   "source": [
    "# Part -2 Python Basics (Conditional Statements)"
   ]
  },
  {
   "cell_type": "markdown",
   "metadata": {},
   "source": [
    "1) A company decided to give bonus of 5% to employee if his/her year of service is more than 5 years.\n",
    "Ask user for their salary and year of service and print the net bonus amount."
   ]
  },
  {
   "cell_type": "code",
   "execution_count": 57,
   "metadata": {},
   "outputs": [
    {
     "name": "stdin",
     "output_type": "stream",
     "text": [
      "Enter your salary : 100000\n",
      "Enter your year of service 2019\n"
     ]
    },
    {
     "name": "stdout",
     "output_type": "stream",
     "text": [
      "your net bonus amount is: 5000.0\n"
     ]
    }
   ],
   "source": [
    "from datetime import datetime\n",
    "\n",
    "current_year = datetime.now().year\n",
    "salary = float(input(\"Enter your salary :\"))\n",
    "y_o_service = int(input(\"Enter your year of service\"))\n",
    "if(current_year - y_o_service > 5 ):\n",
    "    bouns = (salary*5)/100\n",
    "    print(f\"your net bonus amount is: {bouns}\")\n",
    "else:\n",
    "    print(\"Your Are Not Eiligble For Bouns !\")"
   ]
  },
  {
   "cell_type": "markdown",
   "metadata": {},
   "source": [
    "\n",
    "2) Write a program to check whether a person is eligible for voting or not. (accept age from user) if age is greater than 17 eligible otherwise not eligible"
   ]
  },
  {
   "cell_type": "code",
   "execution_count": 56,
   "metadata": {},
   "outputs": [
    {
     "name": "stdin",
     "output_type": "stream",
     "text": [
      "Enter Your Age : 17\n"
     ]
    },
    {
     "name": "stdout",
     "output_type": "stream",
     "text": [
      "You Are Not Eiligble For Voting !\n"
     ]
    }
   ],
   "source": [
    "age = int(input(\"Enter Your Age :\"))\n",
    "\n",
    "if(age > 17):\n",
    "    print(\"You Are Eiligble For Voting !\")\n",
    "else:\n",
    "    print(\"You Are Not Eiligble For Voting !\")\n",
    "    "
   ]
  },
  {
   "cell_type": "markdown",
   "metadata": {},
   "source": [
    "\n",
    "3) Write a program to check whether a number entered by user is even or odd."
   ]
  },
  {
   "cell_type": "code",
   "execution_count": 62,
   "metadata": {},
   "outputs": [
    {
     "name": "stdin",
     "output_type": "stream",
     "text": [
      "Enter a number 78\n"
     ]
    },
    {
     "name": "stdout",
     "output_type": "stream",
     "text": [
      "The number is Even\n"
     ]
    }
   ],
   "source": [
    "num = int(input(\"Enter a number\"))\n",
    "\n",
    "if(num%2 == 0):\n",
    "    print(\"The number is Even\")\n",
    "else:\n",
    "    print(\"The number is Odd\")\n",
    "    "
   ]
  },
  {
   "cell_type": "markdown",
   "metadata": {},
   "source": [
    "4) Write a program to check whether a number is divisible by 7 or not.\n",
    "Show Answer"
   ]
  },
  {
   "cell_type": "code",
   "execution_count": 76,
   "metadata": {},
   "outputs": [
    {
     "name": "stdin",
     "output_type": "stream",
     "text": [
      "Enter a number 49\n"
     ]
    },
    {
     "name": "stdout",
     "output_type": "stream",
     "text": [
      "The number is divisible by 7\n"
     ]
    }
   ],
   "source": [
    "num = int(input(\"Enter a number\"))\n",
    "\n",
    "if(num%7 == 0):\n",
    "    print(\"The number is divisible by 7\")\n",
    "else:\n",
    "    print(\"The number is not divisible by 7\")\n",
    "    "
   ]
  },
  {
   "cell_type": "markdown",
   "metadata": {},
   "source": [
    "5) Write a program to display \n",
    "\"Hello\" if a number entered by user is a multiple of five , otherwise print \"Bye\"."
   ]
  },
  {
   "cell_type": "code",
   "execution_count": 75,
   "metadata": {},
   "outputs": [
    {
     "name": "stdin",
     "output_type": "stream",
     "text": [
      "Enter a number 5.5\n"
     ]
    },
    {
     "name": "stdout",
     "output_type": "stream",
     "text": [
      "Bye\n"
     ]
    }
   ],
   "source": [
    "num = float(input(\"Enter a number\"))\n",
    "\n",
    "if(num%5 == 0):\n",
    "    print(\"Hello\")\n",
    "else:\n",
    "    print(\"Bye\")"
   ]
  },
  {
   "cell_type": "markdown",
   "metadata": {},
   "source": [
    "7) Write a program to display the last digit of a number.\n"
   ]
  },
  {
   "cell_type": "code",
   "execution_count": 62,
   "metadata": {},
   "outputs": [
    {
     "name": "stdin",
     "output_type": "stream",
     "text": [
      "Enter a number:  4567\n"
     ]
    },
    {
     "name": "stdout",
     "output_type": "stream",
     "text": [
      "7 is the last digit\n"
     ]
    }
   ],
   "source": [
    "print(f\"{int(input(\"Enter a number: \")) % 10} is the last digit\")\n"
   ]
  },
  {
   "cell_type": "markdown",
   "metadata": {},
   "source": [
    "9) Take values of length and breadth of a rectangle from user and print if it is square or rectangle."
   ]
  },
  {
   "cell_type": "code",
   "execution_count": 2,
   "metadata": {},
   "outputs": [
    {
     "name": "stdin",
     "output_type": "stream",
     "text": [
      "Enter Lenght 2\n",
      "Enter breadth 4\n"
     ]
    },
    {
     "name": "stdout",
     "output_type": "stream",
     "text": [
      "It is a rectanle\n"
     ]
    }
   ],
   "source": [
    "length = int(input(\"Enter Lenght\"))\n",
    "breadth = int(input(\"Enter breadth\"))\n",
    "\n",
    "if(length == breadth):\n",
    "    print(\"It is a square\")\n",
    "\n",
    "else:\n",
    "    print(\"It is a rectanle\") "
   ]
  },
  {
   "cell_type": "markdown",
   "metadata": {},
   "source": [
    "10) Take two int values from user and print greatest among them."
   ]
  },
  {
   "cell_type": "code",
   "execution_count": 8,
   "metadata": {},
   "outputs": [
    {
     "name": "stdin",
     "output_type": "stream",
     "text": [
      "Enter first value 5\n",
      "Enter second value 7\n"
     ]
    },
    {
     "name": "stdout",
     "output_type": "stream",
     "text": [
      "Second Value 7 Is Greater\n"
     ]
    }
   ],
   "source": [
    "value1 = int(input(\"Enter first value\"))\n",
    "value2 = int(input(\"Enter second value\"))\n",
    "if(value1 > value2):\n",
    "    print(f\"First Value {value1} Is Greater\")\n",
    "\n",
    "elif(value1 < value2):\n",
    "    print(f\"Second Value {value2} Is Greater\") \n",
    "\n",
    "else:\n",
    "    print(\"Both values are equal\")\n",
    "\n",
    "                   "
   ]
  },
  {
   "cell_type": "markdown",
   "metadata": {},
   "source": [
    "11) A shop will give discount of 10% if the cost of purchased quantity is more than 1000.\n",
    "Ask user for quantity\n",
    "Suppose, one unit will cost 100.\n",
    "Judge and print total cost for user."
   ]
  },
  {
   "cell_type": "code",
   "execution_count": 15,
   "metadata": {},
   "outputs": [
    {
     "name": "stdin",
     "output_type": "stream",
     "text": [
      "Enter the quantity that you have purchased 50\n"
     ]
    },
    {
     "name": "stdout",
     "output_type": "stream",
     "text": [
      "You will have the discount of 10% that is 500.0 rupees\n"
     ]
    }
   ],
   "source": [
    "unit = 100      #Suppose, one unit will cost 100\n",
    "quantity = int(input(\"Enter the quantity that you have purchased\"))\n",
    "cost_of_quantity = unit*quantity\n",
    "\n",
    "if(cost_of_quantity >= 1000):\n",
    "    print(f\"You will have the discount of 10% that is {(cost_of_quantity*10)/100} rupees\")\n",
    "\n",
    "else:\n",
    "    print(\"Sorry, your are not elegible for discount...!\")\n",
    "    "
   ]
  },
  {
   "cell_type": "markdown",
   "metadata": {},
   "source": [
    "12) A school has following rules for grading system:\n",
    "\n",
    "a. Below 25 - F\n",
    "\n",
    "b. 25 to 45 - E\n",
    "\n",
    "c. 45 to 50 - D\n",
    "\n",
    "d. 50 to 60 - C\n",
    "\n",
    "e. 60 to 80 - B\n",
    "\n",
    "f. Above 80 - A\n",
    "\n",
    "Ask user to enter marks and print the corresponding grade."
   ]
  },
  {
   "cell_type": "code",
   "execution_count": 24,
   "metadata": {},
   "outputs": [
    {
     "name": "stdin",
     "output_type": "stream",
     "text": [
      "Enter the marks 81\n"
     ]
    },
    {
     "name": "stdout",
     "output_type": "stream",
     "text": [
      "your grade is 'A'\n"
     ]
    }
   ],
   "source": [
    "marks = int(input(\"Enter the marks\"))\n",
    "\n",
    "if(marks < 25):\n",
    "    print(\"your grade is 'F'\")\n",
    "\n",
    "elif(marks >= 25 and marks < 45):\n",
    "    print(\"your grade is 'E'\")  \n",
    "\n",
    "elif(marks >= 45 and marks < 50):\n",
    "    print(\"your grade is 'D'\") \n",
    "\n",
    "elif(marks >= 50 and marks < 60):\n",
    "    print(\"your grade is 'C'\") \n",
    "\n",
    "elif(marks >= 60 and marks <= 80):\n",
    "    print(\"your grade is 'B'\") \n",
    "\n",
    "else:\n",
    "    print(\"your grade is 'A'\") "
   ]
  },
  {
   "cell_type": "markdown",
   "metadata": {},
   "source": [
    "14)A student will not be allowed to sit in exam if his/her attendence is less than 75%.\n",
    "\n",
    "Take following input from user\n",
    "\n",
    "- Number of classes held\n",
    "\n",
    "- Number of classes attended.\n",
    "\n",
    "And print\n",
    "\n",
    "- percentage of class attended\n",
    "\n",
    "- Is student is allowed to sit in exam or not.\n"
   ]
  },
  {
   "cell_type": "code",
   "execution_count": 26,
   "metadata": {},
   "outputs": [
    {
     "name": "stdin",
     "output_type": "stream",
     "text": [
      "Enter the number of classes held 100\n",
      "Enter the number of classes attended 34\n"
     ]
    },
    {
     "name": "stdout",
     "output_type": "stream",
     "text": [
      "Your percentage of class attended is 34.0% and your are not allowed to sit in the exams\n"
     ]
    }
   ],
   "source": [
    "classes_held = int(input(\"Enter the number of classes held\"))\n",
    "classes_attended = int(input(\"Enter the number of classes attended\"))\n",
    "\n",
    "attendence = (classes_attended/classes_held)*100\n",
    "\n",
    "if(classes_attended >= 75):\n",
    "    print(f\"Your percentage of class attended is {attendence}% and your are allowed to sit in the exams \")\n",
    "\n",
    "else:\n",
    "    print(f\"Your percentage of class attended is {attendence}% and your are not allowed to sit in the exams\" )"
   ]
  },
  {
   "cell_type": "markdown",
   "metadata": {},
   "source": [
    "15) Modify the above question to allow student to sit if he/she has medical cause. Ask user if he/she has medical cause or not ( 'Y' or 'N' ) and print accordingly."
   ]
  },
  {
   "cell_type": "code",
   "execution_count": 38,
   "metadata": {},
   "outputs": [
    {
     "name": "stdin",
     "output_type": "stream",
     "text": [
      "Enter 'Y' if you have medical cause or Enter 'N' if you have no medical cuase y\n"
     ]
    },
    {
     "name": "stdout",
     "output_type": "stream",
     "text": [
      "Your are allowed to sit in the exams \n"
     ]
    }
   ],
   "source": [
    "cause = input(\"Enter 'Y' if you have medical cause or Enter 'N' if you have no medical cuase\")\n",
    "\n",
    "if(cause == 'Y' or cause == 'y'):\n",
    "    print(\"Your are allowed to sit in the exams \")\n",
    "\n",
    "elif(cause == 'N'or cause == 'n'):\n",
    "    print(\"Your are  not allowed to sit in the exams \")\n",
    "\n",
    "else:\n",
    "    print(\"Entered an invalid key\" )"
   ]
  },
  {
   "cell_type": "markdown",
   "metadata": {},
   "source": [
    "16) Write a program to check if a year is leap year or not.\n",
    "\n",
    "If a year is divisible by 4 then it is leap year but if the year is century year like 2000, 1900, 2100 then it must be divisible by 400."
   ]
  },
  {
   "cell_type": "code",
   "execution_count": 45,
   "metadata": {},
   "outputs": [
    {
     "name": "stdin",
     "output_type": "stream",
     "text": [
      "Enter the Year 2100\n"
     ]
    },
    {
     "name": "stdout",
     "output_type": "stream",
     "text": [
      "2100 is not a leap year\n"
     ]
    }
   ],
   "source": [
    "year = int(input(\"Enter the Year\"))\n",
    "\n",
    "if (year % 4 == 0 and year % 100 != 0 ) or (year % 400 == 0):\n",
    "     print(f\"{year} is a leap year\")\n",
    "else:\n",
    "    print(f\"{year} is not a leap year\")\n",
    "    \n",
    "    "
   ]
  },
  {
   "cell_type": "markdown",
   "metadata": {},
   "source": [
    "17) Ask user to enter age, gender ( M or F ), marital status ( Y or N ) and then using following rules print their place of service.\n",
    "\n",
    "if employee is female, then she will work only in urban areas.\n",
    "\n",
    "if employee is a male and age is in between 20 to 40 then he may work in anywhere\n",
    "\n",
    "if employee is male and age is in between 40 t0 60 then he will work in urban areas only.\n",
    "\n",
    "And any other input of age should print \"ERROR\""
   ]
  },
  {
   "cell_type": "code",
   "execution_count": 52,
   "metadata": {},
   "outputs": [
    {
     "name": "stdin",
     "output_type": "stream",
     "text": [
      "Enter Your Age 34\n",
      "Enter your gender press 'M' for male or 'F' for female m\n",
      "Enter your marital status press 'Y' if married or 'N' for not married y\n"
     ]
    },
    {
     "name": "stdout",
     "output_type": "stream",
     "text": [
      "He may work in anywhere\n"
     ]
    }
   ],
   "source": [
    "age = int(input(\"Enter Your Age\"))\n",
    "gender = input(\"Enter your gender press 'M' for male or 'F' for female\")\n",
    "marital_status = input(\"Enter your marital status press 'Y' if married or 'N' for not married\")\n",
    "\n",
    "if(gender == 'f' or gender == 'F'):\n",
    "    print(\"She will work only in urban areas\")\n",
    "\n",
    "elif(gender == 'm' or gender == 'M') and (age >=20 and age < 40):\n",
    "    print(\"He may work in anywhere\")\n",
    "\n",
    "elif(gender == 'm' or gender == 'M') and (age >=40 and age < 60):\n",
    "    print(\"He will work in urban areas only\")\n",
    "\n",
    "else:\n",
    "    print(\"ERROR\")\n",
    "\n",
    "    "
   ]
  },
  {
   "cell_type": "markdown",
   "metadata": {},
   "source": [
    "6) Write a program to calculate the electricity bill (accept number of unit from user) according to the following criteria :\n",
    "     Unit                                                     Price  \n",
    "uptp 100 units                                             no charge\n",
    "Next 200 units                                              Rs 5 per unit\n",
    "After 200 units                                             Rs 10 per unit\n",
    "(For example if input unit is 350 than total bill amount is Rs.3500\n",
    "(For example if input unit is 97 than total bill amount is Rs.0\n",
    "(For example if input unit is 150 than total bill amount is Rs.750"
   ]
  },
  {
   "cell_type": "code",
   "execution_count": 58,
   "metadata": {},
   "outputs": [
    {
     "name": "stdin",
     "output_type": "stream",
     "text": [
      "Enter the no: of units 350\n"
     ]
    },
    {
     "name": "stdout",
     "output_type": "stream",
     "text": [
      "total bill amount is Rs.3500\n"
     ]
    }
   ],
   "source": [
    "unit =  int(input(\"Enter the no: of units\"))\n",
    "\n",
    "if(unit <= 100):\n",
    "    print(\"total bill amount is Rs.0\")\n",
    "\n",
    "elif(unit > 100 and unit <= 200):\n",
    "    print(f\"total bill amount is Rs.{unit*5}\")\n",
    "\n",
    "else:\n",
    "    print(f\"total bill amount is Rs.{unit*10}\")\n",
    "    "
   ]
  },
  {
   "cell_type": "markdown",
   "metadata": {},
   "source": [
    "13) Take input of age of 3 people by user and determine oldest and youngest among them."
   ]
  },
  {
   "cell_type": "code",
   "execution_count": 59,
   "metadata": {},
   "outputs": [
    {
     "name": "stdin",
     "output_type": "stream",
     "text": [
      "Enter age of first person 30\n",
      "Enter age of second person 32\n",
      "Enter age of third person 34\n"
     ]
    },
    {
     "name": "stdout",
     "output_type": "stream",
     "text": [
      "The oldest person is 34 years old.\n",
      "The youngest person is 30 years old.\n"
     ]
    }
   ],
   "source": [
    "p1_age = int(input(\"Enter age of first person\"))\n",
    "p2_age = int(input(\"Enter age of second person\"))\n",
    "p3_age = int(input(\"Enter age of third person\"))\n",
    "\n",
    "if (p1_age >= p2_age and p1_age >= p3_age):\n",
    "    oldest = p1_age\n",
    "elif (p2_age >= p1_age and p2_age >= p3_age):\n",
    "    oldest = p2_age\n",
    "else:\n",
    "    oldest = p3_age\n",
    "\n",
    "\n",
    "if (p1_age <= p2_age and p1_age <= p3_age):\n",
    "    youngest = p1_age\n",
    "elif (p2_age <= p1_age and p2_age <= p3_age):\n",
    "    youngest = p2_age\n",
    "else:\n",
    "    youngest = p3_age\n",
    "\n",
    "\n",
    "print(f\"The oldest person is {oldest} years old.\")\n",
    "print(f\"The youngest person is {youngest} years old.\")\n",
    "    "
   ]
  },
  {
   "cell_type": "code",
   "execution_count": null,
   "metadata": {},
   "outputs": [],
   "source": []
  }
 ],
 "metadata": {
  "kernelspec": {
   "display_name": "Python [conda env:base] *",
   "language": "python",
   "name": "conda-base-py"
  },
  "language_info": {
   "codemirror_mode": {
    "name": "ipython",
    "version": 3
   },
   "file_extension": ".py",
   "mimetype": "text/x-python",
   "name": "python",
   "nbconvert_exporter": "python",
   "pygments_lexer": "ipython3",
   "version": "3.13.5"
  }
 },
 "nbformat": 4,
 "nbformat_minor": 4
}
